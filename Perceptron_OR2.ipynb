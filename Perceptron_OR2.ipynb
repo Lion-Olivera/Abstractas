{
  "cells": [
    {
      "cell_type": "markdown",
      "metadata": {
        "id": "view-in-github",
        "colab_type": "text"
      },
      "source": [
        "<a href=\"https://colab.research.google.com/github/Lion-Olivera/Abstractas/blob/main/Perceptron_OR2.ipynb\" target=\"_parent\"><img src=\"https://colab.research.google.com/assets/colab-badge.svg\" alt=\"Open In Colab\"/></a>"
      ]
    },
    {
      "cell_type": "code",
      "execution_count": null,
      "metadata": {
        "id": "dJXRTYoauG8R"
      },
      "outputs": [],
      "source": [
        "import numpy as np\n",
        "\n",
        "class Perceptron(object):\n",
        "  def __init__(self, learning_rate=0.01, n_iterations=100):\n",
        "    self.learning_rate = learning_rate\n",
        "    self.n_iterations = n_iterations\n",
        "    self.weights = None\n",
        "    self.bias = None\n",
        "\n",
        "  def fit(self, X, y):\n",
        "    n_samples, n_features = X.shape\n",
        "\n",
        "    # Inicializar pesos y sesgo (bias) con ceros\n",
        "    self.weights = np.random.rand(n_features)\n",
        "    self.bias = 0\n",
        "\n",
        "    # Etiquetas y deben ser 1 o -1\n",
        "    y_ = np.array([1 if i > 0 else -1 for i in y])\n",
        "\n",
        "    # Proceso de aprendizaje\n",
        "    for _ in range(self.n_iterations):\n",
        "      for idx, x_i in enumerate(X):\n",
        "        condition = y_[idx] * (np.dot(x_i, self.weights) + self.bias) >= 0\n",
        "        if not condition:\n",
        "          self.weights += self.learning_rate * y_[idx] * x_i\n",
        "          self.bias += self.learning_rate * y_[idx]\n",
        "\n",
        "  def predict(self, X):\n",
        "    linear_output = np.dot(X, self.weights) + self.bias\n",
        "    predicted_labels = np.where(linear_output >= 0, 1, -1)\n",
        "    return predicted_labels"
      ]
    },
    {
      "cell_type": "code",
      "execution_count": null,
      "metadata": {
        "id": "SSf5nigD_hhO"
      },
      "outputs": [],
      "source": [
        "# Ejemplo de uso del Perceptrón\n",
        "\n",
        "import numpy as np\n",
        "\n",
        "# Datos de entrenamiento (X) y etiquetas (y)\n",
        "X = np.array([\n",
        "    [-1, -1],\n",
        "    [-1,  1],\n",
        "    [ 1, -1],\n",
        "    [ 1,  1]\n",
        "])\n",
        "y = np.array([-1, -1, -1, 1])  # Etiquetas de clase\n"
      ]
    },
    {
      "cell_type": "code",
      "execution_count": null,
      "metadata": {
        "id": "E3V5Y7Dut7np"
      },
      "outputs": [],
      "source": [
        "# Crear y entrenar el perceptrón\n",
        "perceptron = Perceptron(learning_rate=0.01, n_iterations=1000)\n",
        "perceptron.fit(X, y)"
      ]
    },
    {
      "cell_type": "code",
      "execution_count": null,
      "metadata": {
        "colab": {
          "base_uri": "https://localhost:8080/"
        },
        "id": "ygxTZfaGt-PZ",
        "outputId": "3aede34e-00e5-4ace-e670-890e79e8be6d"
      },
      "outputs": [
        {
          "output_type": "stream",
          "name": "stdout",
          "text": [
            "Predicciones: [-1 -1 -1  1]\n"
          ]
        }
      ],
      "source": [
        "# Predecir las etiquetas de clase\n",
        "predictions = perceptron.predict(X)\n",
        "print(\"Predicciones:\", predictions)"
      ]
    }
  ],
  "metadata": {
    "colab": {
      "provenance": [],
      "include_colab_link": true
    },
    "kernelspec": {
      "display_name": "P3.10.13-TF210-GPU-CV2-4.6",
      "language": "python",
      "name": "facetfgpu"
    },
    "language_info": {
      "codemirror_mode": {
        "name": "ipython",
        "version": 3
      },
      "file_extension": ".py",
      "mimetype": "text/x-python",
      "name": "python",
      "nbconvert_exporter": "python",
      "pygments_lexer": "ipython3",
      "version": "3.10.13"
    }
  },
  "nbformat": 4,
  "nbformat_minor": 0
}